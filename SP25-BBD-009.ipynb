{
 "cells": [
  {
   "cell_type": "code",
   "execution_count": 1,
   "id": "b746e922-cfc0-49bb-a28e-8e4bb9abe363",
   "metadata": {},
   "outputs": [
    {
     "name": "stdout",
     "output_type": "stream",
     "text": [
      "10\n",
      "9\n",
      "8\n",
      "7\n",
      "6\n",
      "5\n",
      "4\n",
      "3\n",
      "2\n",
      "1\n",
      "loop complete!\n"
     ]
    }
   ],
   "source": [
    "count=10\n",
    "while count>= 1:\n",
    "    print(count)\n",
    "    count -=1\n",
    "print(\"loop complete!\")"
   ]
  },
  {
   "cell_type": "code",
   "execution_count": 2,
   "id": "95dca87b-922d-4cd1-9708-e2dcc276c293",
   "metadata": {},
   "outputs": [],
   "source": [
    "#question2"
   ]
  },
  {
   "cell_type": "code",
   "execution_count": 3,
   "id": "0cd78a1e-bdaa-47fa-a90b-e3ced304f8d9",
   "metadata": {},
   "outputs": [
    {
     "name": "stdout",
     "output_type": "stream",
     "text": [
      "2\n",
      "4\n",
      "6\n",
      "8\n",
      "10\n",
      "12\n",
      "14\n",
      "16\n",
      "18\n",
      "20\n"
     ]
    }
   ],
   "source": [
    "num=2\n",
    "while num <=20:\n",
    "    print(num)\n",
    "    num+=2"
   ]
  },
  {
   "cell_type": "code",
   "execution_count": 4,
   "id": "eeda1fa2-26a7-495f-8470-4cfb1c8debbb",
   "metadata": {},
   "outputs": [
    {
     "name": "stdin",
     "output_type": "stream",
     "text": [
      "enter a number: 5\n"
     ]
    },
    {
     "name": "stdout",
     "output_type": "stream",
     "text": [
      "the sum of the first 5 natural numbers is: 1\n",
      "the sum of the first 5 natural numbers is: 3\n",
      "the sum of the first 5 natural numbers is: 6\n",
      "the sum of the first 5 natural numbers is: 10\n",
      "the sum of the first 5 natural numbers is: 15\n"
     ]
    }
   ],
   "source": [
    "#question3\n",
    "n=int(input(\"enter a number:\"))\n",
    "sum=0\n",
    "count=1\n",
    "while count<=n:\n",
    "    sum+=count\n",
    "    count+=1\n",
    "    print(\"the sum of the first\",n,\"natural numbers is:\",sum)"
   ]
  },
  {
   "cell_type": "code",
   "execution_count": 12,
   "id": "c2a01c18-7cf1-4870-982a-457c4dd6ccfc",
   "metadata": {},
   "outputs": [
    {
     "name": "stdin",
     "output_type": "stream",
     "text": [
      "please enter a positive number: -3\n"
     ]
    },
    {
     "name": "stdout",
     "output_type": "stream",
     "text": [
      "that's not a positive number.try again.\n",
      "thankyou!\n"
     ]
    },
    {
     "name": "stdin",
     "output_type": "stream",
     "text": [
      "please enter a positive number: 5\n"
     ]
    }
   ],
   "source": [
    "number=-1\n",
    "while number<=0:\n",
    "    number= float(input(\"please enter a positive number:\"))\n",
    "    if number<=0:\n",
    "        print(\"that's not a positive number.try again.\")\n",
    "        print(\"thankyou!\")"
   ]
  },
  {
   "cell_type": "code",
   "execution_count": 16,
   "id": "3c4c69ef-c53d-42da-a6d2-10b35f3b867d",
   "metadata": {},
   "outputs": [
    {
     "name": "stdout",
     "output_type": "stream",
     "text": [
      "d\n",
      "a\n",
      "t\n",
      "a\n"
     ]
    }
   ],
   "source": [
    "s=\"data\"\n",
    "i=0\n",
    "while i<len(s):\n",
    "    print(s[i])\n",
    "    i+=1"
   ]
  },
  {
   "cell_type": "code",
   "execution_count": 20,
   "id": "e1ddd599-9664-447c-82da-d0ac3b51d8e8",
   "metadata": {},
   "outputs": [
    {
     "name": "stdin",
     "output_type": "stream",
     "text": [
      "enter password: analytics\n"
     ]
    },
    {
     "name": "stdout",
     "output_type": "stream",
     "text": [
      "incorrect password.try again.\n"
     ]
    },
    {
     "name": "stdin",
     "output_type": "stream",
     "text": [
      "enter password: analytic123\n"
     ]
    },
    {
     "name": "stdout",
     "output_type": "stream",
     "text": [
      "incorrect password.try again.\n"
     ]
    },
    {
     "name": "stdin",
     "output_type": "stream",
     "text": [
      "enter password: \"analytics123\"\n"
     ]
    },
    {
     "name": "stdout",
     "output_type": "stream",
     "text": [
      "incorrect password.try again.\n"
     ]
    },
    {
     "name": "stdin",
     "output_type": "stream",
     "text": [
      "enter password: analytics123\n"
     ]
    },
    {
     "name": "stdout",
     "output_type": "stream",
     "text": [
      "access granted.\n"
     ]
    }
   ],
   "source": [
    "correct_password=\"analytics123\"\n",
    "\n",
    "while True:\n",
    "    user_input= input(\"enter password:\")\n",
    "    if user_input==correct_password:\n",
    "        print(\"access granted.\")\n",
    "        break\n",
    "    else:print(\"incorrect password.try again.\")"
   ]
  },
  {
   "cell_type": "code",
   "execution_count": 44,
   "id": "f090017d-b164-443a-a680-d4fb2988d450",
   "metadata": {},
   "outputs": [
    {
     "name": "stdin",
     "output_type": "stream",
     "text": [
      "Guess the secret number:  7\n"
     ]
    },
    {
     "name": "stdout",
     "output_type": "stream",
     "text": [
      "Congratulations! You guessed it right.\n"
     ]
    }
   ],
   "source": [
    "secret_number = 7\n",
    "guess = None  # Initialize with a value that is not the secret number\n",
    "\n",
    "while guess != secret_number:\n",
    "    guess = int(input(\"Guess the secret number: \"))\n",
    "    \n",
    "    if guess < secret_number:\n",
    "        print(\"Too low!\")\n",
    "    elif guess > secret_number:\n",
    "        print(\"Too high!\")\n",
    "    else:\n",
    "        print(\"Congratulations! You guessed it right.\")"
   ]
  },
  {
   "cell_type": "code",
   "execution_count": null,
   "id": "307cc3b1-71a4-4747-840c-70261be6cb17",
   "metadata": {},
   "outputs": [],
   "source": []
  }
 ],
 "metadata": {
  "kernelspec": {
   "display_name": "Python 3 (ipykernel)",
   "language": "python",
   "name": "python3"
  },
  "language_info": {
   "codemirror_mode": {
    "name": "ipython",
    "version": 3
   },
   "file_extension": ".py",
   "mimetype": "text/x-python",
   "name": "python",
   "nbconvert_exporter": "python",
   "pygments_lexer": "ipython3",
   "version": "3.12.4"
  }
 },
 "nbformat": 4,
 "nbformat_minor": 5
}
